{
  "nbformat": 4,
  "nbformat_minor": 0,
  "metadata": {
    "colab": {
      "provenance": [],
      "authorship_tag": "ABX9TyMX9t2H1fOhF11MhXxzu3WR",
      "include_colab_link": true
    },
    "kernelspec": {
      "name": "python3",
      "display_name": "Python 3"
    },
    "language_info": {
      "name": "python"
    }
  },
  "cells": [
    {
      "cell_type": "markdown",
      "metadata": {
        "id": "view-in-github",
        "colab_type": "text"
      },
      "source": [
        "<a href=\"https://colab.research.google.com/github/radosty/radosty.github.io/blob/main/internetpenetrationapi.ipynb\" target=\"_parent\"><img src=\"https://colab.research.google.com/assets/colab-badge.svg\" alt=\"Open In Colab\"/></a>"
      ]
    },
    {
      "cell_type": "code",
      "execution_count": null,
      "metadata": {
        "colab": {
          "base_uri": "https://localhost:8080/",
          "height": 119
        },
        "id": "RjEhHQpEUDgT",
        "outputId": "26dbf441-552d-4050-8759-7db8b56040b5"
      },
      "outputs": [
        {
          "output_type": "stream",
          "name": "stdout",
          "text": [
            "      Country Country Code  Year  Internet Penetration (% of population)\n",
            "0     Albania           AL  2021                                 79.3237\n",
            "1     Andorra           AD  2021                                 93.8975\n",
            "2     Armenia           AM  2021                                 78.6123\n",
            "3     Austria           AT  2021                                 92.5292\n",
            "4  Azerbaijan           AZ  2021                                 86.0000\n"
          ]
        },
        {
          "output_type": "display_data",
          "data": {
            "text/plain": [
              "<IPython.core.display.Javascript object>"
            ],
            "application/javascript": [
              "\n",
              "    async function download(id, filename, size) {\n",
              "      if (!google.colab.kernel.accessAllowed) {\n",
              "        return;\n",
              "      }\n",
              "      const div = document.createElement('div');\n",
              "      const label = document.createElement('label');\n",
              "      label.textContent = `Downloading \"${filename}\": `;\n",
              "      div.appendChild(label);\n",
              "      const progress = document.createElement('progress');\n",
              "      progress.max = size;\n",
              "      div.appendChild(progress);\n",
              "      document.body.appendChild(div);\n",
              "\n",
              "      const buffers = [];\n",
              "      let downloaded = 0;\n",
              "\n",
              "      const channel = await google.colab.kernel.comms.open(id);\n",
              "      // Send a message to notify the kernel that we're ready.\n",
              "      channel.send({})\n",
              "\n",
              "      for await (const message of channel.messages) {\n",
              "        // Send a message to notify the kernel that we're ready.\n",
              "        channel.send({})\n",
              "        if (message.buffers) {\n",
              "          for (const buffer of message.buffers) {\n",
              "            buffers.push(buffer);\n",
              "            downloaded += buffer.byteLength;\n",
              "            progress.value = downloaded;\n",
              "          }\n",
              "        }\n",
              "      }\n",
              "      const blob = new Blob(buffers, {type: 'application/binary'});\n",
              "      const a = document.createElement('a');\n",
              "      a.href = window.URL.createObjectURL(blob);\n",
              "      a.download = filename;\n",
              "      div.appendChild(a);\n",
              "      a.click();\n",
              "      div.remove();\n",
              "    }\n",
              "  "
            ]
          },
          "metadata": {}
        },
        {
          "output_type": "display_data",
          "data": {
            "text/plain": [
              "<IPython.core.display.Javascript object>"
            ],
            "application/javascript": [
              "download(\"download_59fb8ec7-9de3-4a52-a6c4-72b378ff2c42\", \"europe_internet_penetration_2021.csv\", 1354)"
            ]
          },
          "metadata": {}
        }
      ],
      "source": [
        "import requests\n",
        "import pandas as pd\n",
        "\n",
        "# Define the indicator and year\n",
        "indicator = \"IT.NET.USER.ZS\"\n",
        "year = 2021\n",
        "\n",
        "# ISO Alpha-3 code for european countries\n",
        "european_countries = [\n",
        "    \"ALB\", \"AND\", \"ARM\", \"AUT\", \"AZE\", \"BEL\", \"BIH\", \"BLR\", \"BGR\", \"CHE\", \"CYP\", \"CZE\", \"DEU\", \"DNK\", \"ESP\", \"EST\",\n",
        "    \"FIN\", \"FRA\", \"GBR\", \"GEO\", \"GRC\", \"HRV\", \"HUN\", \"IRL\", \"ISL\", \"ITA\", \"KAZ\", \"KGZ\", \"LIE\", \"LTU\", \"LUX\", \"LVA\",\n",
        "    \"MCO\", \"MDA\", \"MKD\", \"MLT\", \"MNE\", \"NLD\", \"NOR\", \"POL\", \"PRT\", \"ROU\", \"RUS\", \"SMR\", \"SRB\", \"SVK\", \"SVN\", \"SWE\",\n",
        "    \"TJK\", \"TKM\", \"UKR\", \"UZB\"\n",
        "]\n",
        "\n",
        "# API URL\n",
        "url = f\"https://api.worldbank.org/v2/country/{';'.join(european_countries)}/indicator/{indicator}?date={year}&format=json&per_page=1000\"\n",
        "\n",
        "# Get the data from the API\n",
        "response = requests.get(url)\n",
        "if response.status_code == 200:\n",
        "    data = response.json()\n",
        "    if data and len(data) > 1 and data[1]:\n",
        "        records = [\n",
        "            {\n",
        "                \"Country\": record[\"country\"][\"value\"],\n",
        "                \"Country Code\": record[\"country\"][\"id\"],\n",
        "                \"Year\": record[\"date\"],\n",
        "                \"Internet Penetration (% of population)\": record[\"value\"],\n",
        "            }\n",
        "            for record in data[1]\n",
        "            if record and \"value\" in record and record[\"value\"] is not None\n",
        "        ]\n",
        "        # Convert to a DataFrame\n",
        "        df = pd.DataFrame(records)\n",
        "        # Display the first few rows\n",
        "        print(df.head())\n",
        "        # Save to CSV\n",
        "        filename = \"europe_internet_penetration_2021.csv\"\n",
        "        df.to_csv(filename, index=False)\n",
        "        # Download the file\n",
        "        from google.colab import files\n",
        "        files.download(filename)\n",
        "    else:\n",
        "        print(\"No data available for 2021.\")\n",
        "else:\n",
        "    print(f\"Failed to fetch data. HTTP Status Code: {response.status_code}\")\n"
      ]
    }
  ]
}