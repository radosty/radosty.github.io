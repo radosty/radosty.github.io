{
  "nbformat": 4,
  "nbformat_minor": 0,
  "metadata": {
    "colab": {
      "provenance": [],
      "authorship_tag": "ABX9TyPOFe3TFY2QZ9KodCmuASfk",
      "include_colab_link": true
    },
    "kernelspec": {
      "name": "python3",
      "display_name": "Python 3"
    },
    "language_info": {
      "name": "python"
    }
  },
  "cells": [
    {
      "cell_type": "markdown",
      "metadata": {
        "id": "view-in-github",
        "colab_type": "text"
      },
      "source": [
        "<a href=\"https://colab.research.google.com/github/radosty/radosty.github.io/blob/main/fintechstock.ipynb\" target=\"_parent\"><img src=\"https://colab.research.google.com/assets/colab-badge.svg\" alt=\"Open In Colab\"/></a>"
      ]
    },
    {
      "cell_type": "code",
      "execution_count": null,
      "metadata": {
        "colab": {
          "base_uri": "https://localhost:8080/"
        },
        "id": "yDVyYc4rfr5k",
        "outputId": "0086b751-de71-44fc-c651-85d02d92ff58"
      },
      "outputs": [
        {
          "output_type": "stream",
          "name": "stdout",
          "text": [
            "                        Date Ticker       Close  Monthly Return (%)\n",
            "0  2021-01-01 00:00:00-05:00   PYPL  234.309998                 NaN\n",
            "1  2021-02-01 00:00:00-05:00   PYPL  259.850006           10.900093\n",
            "2  2021-03-01 00:00:00-05:00   PYPL  242.839996           -6.546088\n",
            "3  2021-04-01 00:00:00-04:00   PYPL  262.290009            8.009394\n",
            "4  2021-05-01 00:00:00-04:00   PYPL  260.019989           -0.865462\n",
            "\n",
            "Columns in all_stock_data:\n",
            "Index(['Date', 'Ticker', 'Close', 'Monthly Return (%)'], dtype='object')\n",
            "\n",
            "Raw fintech stock data saved.\n",
            "Average fintech performance data saved.\n"
          ]
        }
      ],
      "source": [
        "import yfinance as yf\n",
        "import pandas as pd\n",
        "from datetime import datetime\n",
        "\n",
        "# List of fintech and companies that offer fintech services\n",
        "tickers = [\n",
        "    'PYPL', 'SQ', 'ADYEN.AS', 'WISE.L', 'AFRM', 'SOFI', 'UPST',\n",
        "    'JPM', 'BAC', 'WFC', 'C', 'GS', 'V', 'MA', 'SHOP', 'MELI', 'SE'\n",
        "]\n",
        "\n",
        "# Define the dates of interest\n",
        "start_date = '2021-01-01'\n",
        "end_date = '2021-12-31'\n",
        "\n",
        "# Create an empty DataFrame to store all data\n",
        "all_stock_data = pd.DataFrame()\n",
        "\n",
        "for ticker in tickers:\n",
        "    try:\n",
        "        # Create a Ticker object\n",
        "        stock = yf.Ticker(ticker)\n",
        "\n",
        "        # Fetch historical data\n",
        "        hist = stock.history(start=start_date, end=end_date, interval=\"1mo\")\n",
        "\n",
        "        if hist.empty:\n",
        "            print(f\"No data for {ticker}, skipping.\")\n",
        "            continue\n",
        "\n",
        "        # Reset index to make Date a column\n",
        "        hist.reset_index(inplace=True)\n",
        "\n",
        "        # Add Ticker column\n",
        "        hist['Ticker'] = ticker\n",
        "\n",
        "        # Calculate monthly return\n",
        "        hist['Monthly Return (%)'] = hist['Close'].pct_change() * 100\n",
        "\n",
        "        # Select relevant columns\n",
        "        hist = hist[['Date', 'Ticker', 'Close', 'Monthly Return (%)']]\n",
        "\n",
        "        # Append to the main DataFrame\n",
        "        all_stock_data = pd.concat([all_stock_data, hist], ignore_index=True)\n",
        "\n",
        "    except Exception as e:\n",
        "        print(f\"Error processing {ticker}: {e}\")\n",
        "\n",
        "# Display the first few rows of the combined data\n",
        "print(all_stock_data.head())\n",
        "\n",
        "# Display column names\n",
        "print(\"\\nColumns in all_stock_data:\")\n",
        "print(all_stock_data.columns)\n",
        "\n",
        "# Save the raw data\n",
        "all_stock_data.to_csv(\"raw_fintech_stock_data_2021.csv\", index=False)\n",
        "print(\"\\nRaw fintech stock data saved.\")\n",
        "\n",
        "# Calculate average monthly performance\n",
        "average_monthly_performance = all_stock_data.groupby(['Date', 'Ticker']).agg({\n",
        "    'Close': 'mean',\n",
        "    'Monthly Return (%)': 'mean'\n",
        "}).reset_index()\n",
        "\n",
        "# Calculate average across all tickers\n",
        "final_performance = average_monthly_performance.groupby('Date').agg({\n",
        "    'Close': 'mean',\n",
        "    'Monthly Return (%)': 'mean'\n",
        "}).reset_index()\n",
        "\n",
        "# Rename columns as it makes more sense\n",
        "final_performance.rename(columns={\n",
        "    'Close': 'Average Closing Price',\n",
        "    'Monthly Return (%)': 'Average Monthly Return (%)'\n",
        "}, inplace=True)\n",
        "\n",
        "# Save the averaged performance data\n",
        "final_performance.to_csv(\"average_fintech_performance_2021.csv\", index=False)\n",
        "print(\"Average fintech performance data saved.\")"
      ]
    },
    {
      "cell_type": "markdown",
      "source": [],
      "metadata": {
        "id": "vSItQly1gfaA"
      }
    }
  ]
}