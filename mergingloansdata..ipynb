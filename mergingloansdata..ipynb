{
  "nbformat": 4,
  "nbformat_minor": 0,
  "metadata": {
    "colab": {
      "provenance": [],
      "authorship_tag": "ABX9TyNA6PofRgvgySytGtNXQ1mn",
      "include_colab_link": true
    },
    "kernelspec": {
      "name": "python3",
      "display_name": "Python 3"
    },
    "language_info": {
      "name": "python"
    }
  },
  "cells": [
    {
      "cell_type": "markdown",
      "metadata": {
        "id": "view-in-github",
        "colab_type": "text"
      },
      "source": [
        "<a href=\"https://colab.research.google.com/github/radosty/radosty.github.io/blob/main/mergingloansdata..ipynb\" target=\"_parent\"><img src=\"https://colab.research.google.com/assets/colab-badge.svg\" alt=\"Open In Colab\"/></a>"
      ]
    },
    {
      "cell_type": "code",
      "execution_count": 5,
      "metadata": {
        "id": "9riuH-ShuWLm"
      },
      "outputs": [],
      "source": [
        "import pandas as pd\n",
        "import pandas as pd\n",
        "url1 = pd.read_csv(\"https://raw.githubusercontent.com/radosty/radosty.github.io/refs/heads/main/traditionalloans.csv\")\n",
        "url2 = pd.read_csv(\"https://raw.githubusercontent.com/radosty/radosty.github.io/refs/heads/main/alternativeborrowing.csv\")\n",
        "merged_data = pd.merge(url1, url2, on=['Year'], how='outer')\n",
        "merged_data_clean = merged_data\n",
        "merged_data.to_csv('loansEurope.csv', index=False)\n",
        "\n"
      ]
    },
    {
      "source": [],
      "cell_type": "code",
      "metadata": {
        "id": "f-TTw7AKvy-p"
      },
      "execution_count": null,
      "outputs": []
    }
  ]
}