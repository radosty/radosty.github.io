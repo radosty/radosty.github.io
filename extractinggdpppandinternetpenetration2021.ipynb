{
  "nbformat": 4,
  "nbformat_minor": 0,
  "metadata": {
    "colab": {
      "provenance": [],
      "mount_file_id": "1CBY8F3_GvatLC2dKznvbGWLPkPOnXWUE",
      "authorship_tag": "ABX9TyNppq68CRse8wdx4vjIL9T2",
      "include_colab_link": true
    },
    "kernelspec": {
      "name": "python3",
      "display_name": "Python 3"
    },
    "language_info": {
      "name": "python"
    }
  },
  "cells": [
    {
      "cell_type": "markdown",
      "metadata": {
        "id": "view-in-github",
        "colab_type": "text"
      },
      "source": [
        "<a href=\"https://colab.research.google.com/github/radosty/radosty.github.io/blob/main/extractinggdpppandinternetpenetration2021.ipynb\" target=\"_parent\"><img src=\"https://colab.research.google.com/assets/colab-badge.svg\" alt=\"Open In Colab\"/></a>"
      ]
    },
    {
      "cell_type": "code",
      "execution_count": 8,
      "metadata": {
        "colab": {
          "base_uri": "https://localhost:8080/"
        },
        "id": "ozsmgt4afRwz",
        "outputId": "9570d591-56d8-4957-d4c5-caacfa5278f9"
      },
      "outputs": [
        {
          "output_type": "stream",
          "name": "stdout",
          "text": [
            "Merged data saved to: merged_gdp_findex_data.csv\n"
          ]
        },
        {
          "output_type": "stream",
          "name": "stderr",
          "text": [
            "<ipython-input-8-d4a1d7bdbc46>:18: SettingWithCopyWarning: \n",
            "A value is trying to be set on a copy of a slice from a DataFrame\n",
            "\n",
            "See the caveats in the documentation: https://pandas.pydata.org/pandas-docs/stable/user_guide/indexing.html#returning-a-view-versus-a-copy\n",
            "  findex_relevant.rename(columns={\n"
          ]
        }
      ],
      "source": [
        "import pandas as pd\n",
        "\n",
        "# Load the datasets\n",
        "gdp_internet_path = \"/content/gdpppcinternetpenetration2021.csv\"\n",
        "findex_data_path = \"/content/findexdata.csv\"\n",
        "\n",
        "# Load GDP and Internet Penetration dataset\n",
        "gdp_internet_data = pd.read_csv(gdp_internet_path)\n",
        "\n",
        "# Load Findex dataset with appropriate encoding\n",
        "findex_data = pd.read_csv(findex_data_path, encoding='latin1')\n",
        "\n",
        "# Select relevant columns for GDP and Internet Penetration dataset\n",
        "gdp_internet_relevant = gdp_internet_data[['Country', 'Country Code', 'Year', '.GDP PPP', 'Internet Penetration %']]\n",
        "\n",
        "# Select and rename relevant columns for Findex dataset\n",
        "findex_relevant = findex_data[['economycode', 'internetaccess', 'anydigpayment', 'year']]\n",
        "findex_relevant.rename(columns={\n",
        "    'economycode': 'Country Code',\n",
        "    'internetaccess': 'Internet Access',\n",
        "    'anydigpayment': 'Digital Payment Usage',\n",
        "    'year': 'Year',\n",
        "    'fin5': 'Used a Mobile Phone or Internet To Acess Account'\n",
        "}, inplace=True)\n",
        "\n",
        "# Map ISO2 to ISO3 codes for the GDP dataset\n",
        "iso2_to_iso3 = {\n",
        "    'AL': 'ALB', 'AD': 'AND', 'AM': 'ARM', 'AT': 'AUT', 'AZ': 'AZE',\n",
        "    'BY': 'BLR', 'BE': 'BEL', 'BA': 'BIH', 'BG': 'BGR', 'HR': 'HRV',\n",
        "    'CY': 'CYP', 'CZ': 'CZE', 'DK': 'DNK', 'EE': 'EST', 'FI': 'FIN',\n",
        "    'FR': 'FRA', 'GE': 'GEO', 'DE': 'DEU', 'GR': 'GRC', 'HU': 'HUN',\n",
        "    'IS': 'ISL', 'IE': 'IRL', 'IT': 'ITA', 'KZ': 'KAZ', 'KG': 'KGZ',\n",
        "    'LV': 'LVA', 'LI': 'LIE', 'LT': 'LTU', 'LU': 'LUX', 'MT': 'MLT',\n",
        "    'MD': 'MDA', 'MC': 'MCO', 'ME': 'MNE', 'NL': 'NLD', 'MK': 'MKD',\n",
        "    'NO': 'NOR', 'PL': 'POL', 'PT': 'PRT', 'RO': 'ROU', 'RU': 'RUS',\n",
        "    'SM': 'SMR', 'RS': 'SRB', 'SK': 'SVK', 'SI': 'SVN', 'ES': 'ESP',\n",
        "    'SE': 'SWE', 'CH': 'CHE', 'TJ': 'TJK', 'UA': 'UKR', 'GB': 'GBR',\n",
        "    'UZ': 'UZB'\n",
        "}\n",
        "gdp_internet_relevant['Country Code'] = gdp_internet_relevant['Country Code'].map(iso2_to_iso3)\n",
        "\n",
        "# Filter Findex dataset for the year 2021\n",
        "findex_relevant = findex_relevant[findex_relevant['Year'] == 2021]\n",
        "\n",
        "# Merge the datasets on 'Country Code' and 'Year'\n",
        "merged_data = pd.merge(gdp_internet_relevant, findex_relevant, on=['Country Code', 'Year'], how='inner')\n",
        "\n",
        "# Save the merged dataset to a CSV file\n",
        "output_path = \"merged_gdp_findex_data.csv\"\n",
        "merged_data.to_csv(output_path, index=False)\n",
        "\n",
        "# Output results\n",
        "print(f\"Merged data saved to: {output_path}\")\n"
      ]
    },
    {
      "cell_type": "code",
      "source": [],
      "metadata": {
        "id": "Et8609DwSqSP"
      },
      "execution_count": null,
      "outputs": []
    }
  ]
}