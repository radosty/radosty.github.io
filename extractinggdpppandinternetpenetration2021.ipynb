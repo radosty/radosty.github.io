{
  "nbformat": 4,
  "nbformat_minor": 0,
  "metadata": {
    "colab": {
      "provenance": [],
      "mount_file_id": "1CBY8F3_GvatLC2dKznvbGWLPkPOnXWUE",
      "authorship_tag": "ABX9TyNjXnHSn3+retGORhQ3ASB2",
      "include_colab_link": true
    },
    "kernelspec": {
      "name": "python3",
      "display_name": "Python 3"
    },
    "language_info": {
      "name": "python"
    }
  },
  "cells": [
    {
      "cell_type": "markdown",
      "metadata": {
        "id": "view-in-github",
        "colab_type": "text"
      },
      "source": [
        "<a href=\"https://colab.research.google.com/github/radosty/radosty.github.io/blob/main/extractinggdpppandinternetpenetration2021.ipynb\" target=\"_parent\"><img src=\"https://colab.research.google.com/assets/colab-badge.svg\" alt=\"Open In Colab\"/></a>"
      ]
    },
    {
      "cell_type": "code",
      "execution_count": 34,
      "metadata": {
        "colab": {
          "base_uri": "https://localhost:8080/"
        },
        "id": "ozsmgt4afRwz",
        "outputId": "21706f7f-d1fd-4052-a699-908e27a1dd10"
      },
      "outputs": [
        {
          "output_type": "stream",
          "name": "stdout",
          "text": [
            "Merged data saved to: gdpinternetpenetrationfindex7.csv\n"
          ]
        }
      ],
      "source": [
        "import pandas as pd\n",
        "\n",
        "# Load the datasets\n",
        "gdp_internet_path = \"/content/gdpppcinternetpenetration2021.csv\"\n",
        "findex_data_path = \"/content/findexdata.csv\"\n",
        "\n",
        "# Load GDP and Internet Penetration dataset\n",
        "gdp_internet_data = pd.read_csv(gdp_internet_path)\n",
        "\n",
        "# Load Findex dataset with appropriate encoding\n",
        "findex_data = pd.read_csv(findex_data_path, encoding='latin1')\n",
        "\n",
        "# Select relevant columns for GDP and Internet Penetration dataset\n",
        "gdp_internet_relevant = gdp_internet_data[['Country', 'Country Code', 'Year', '.GDP PPP', 'Internet Penetration %']]\n",
        "gdp_internet_relevant.rename(columns={\n",
        "    'Country Code': 'economycode',\n",
        "    'Year': 'year'\n",
        "}, inplace=True)\n",
        "\n",
        "findex_relevant = findex_data[['economycode',  'anydigpayment', 'year', 'fin5', 'fin6', 'fin14a', 'fin14a1', 'fin14b']]\n",
        "\n",
        "# Map ISO2 to ISO3 codes for the GDP dataset\n",
        "iso2_to_iso3 = {\n",
        "    'AL': 'ALB', 'AD': 'AND', 'AM': 'ARM', 'AT': 'AUT', 'AZ': 'AZE',\n",
        "    'BY': 'BLR', 'BE': 'BEL', 'BA': 'BIH', 'BG': 'BGR', 'HR': 'HRV',\n",
        "    'CY': 'CYP', 'CZ': 'CZE', 'DK': 'DNK', 'EE': 'EST', 'FI': 'FIN',\n",
        "    'FR': 'FRA', 'GE': 'GEO', 'DE': 'DEU', 'GR': 'GRC', 'HU': 'HUN',\n",
        "    'IS': 'ISL', 'IE': 'IRL', 'IT': 'ITA', 'KZ': 'KAZ', 'KG': 'KGZ',\n",
        "    'LV': 'LVA', 'LI': 'LIE', 'LT': 'LTU', 'LU': 'LUX', 'MT': 'MLT',\n",
        "    'MD': 'MDA', 'MC': 'MCO', 'ME': 'MNE', 'NL': 'NLD', 'MK': 'MKD',\n",
        "    'NO': 'NOR', 'PL': 'POL', 'PT': 'PRT', 'RO': 'ROU', 'RU': 'RUS',\n",
        "    'SM': 'SMR', 'RS': 'SRB', 'SK': 'SVK', 'SI': 'SVN', 'ES': 'ESP',\n",
        "    'SE': 'SWE', 'CH': 'CHE', 'TJ': 'TJK', 'UA': 'UKR', 'GB': 'GBR',\n",
        "    'UZ': 'UZB'\n",
        "}\n",
        "gdp_internet_relevant['economycode'] = gdp_internet_relevant['economycode'].map(iso2_to_iso3)\n",
        "\n",
        "# Filter Findex dataset for the year 2021\n",
        "findex_relevant = findex_relevant[findex_relevant['year'] == 2021]\n",
        "\n",
        "# Merge the datasets on 'Country Code' and 'Year'\n",
        "merged_data = pd.merge(gdp_internet_relevant, findex_relevant, on=['economycode', 'year'], how='inner')\n",
        "\n",
        "# Save the merged dataset to a CSV file\n",
        "output_path = \"gdpinternetpenetrationfindex7.csv\"\n",
        "merged_data.to_csv(output_path, index=False)\n",
        "\n",
        "# Output results\n",
        "print(f\"Merged data saved to: {output_path}\")\n"
      ]
    },
    {
      "source": [
        "import pandas as pd\n",
        "\n",
        "# Load the dataset\n",
        "file_path = \"/content/gdpinternetpenetrationfindex6.csv\"\n",
        "data = pd.read_csv(file_path)\n",
        "\n",
        "# Specify columns to calculate averages\n",
        "columns_to_average = ['anydigpayment', 'fin5', 'fin6', 'fin14a', 'fin14a1', 'fin14b']\n",
        "\n",
        "# Include GDP and Internet Penetration columns\n",
        "additional_columns = ['.GDP PPP', 'Internet Penetration %']\n",
        "\n",
        "# Filter out rows with missing values for relevant columns\n",
        "data_filtered = data.dropna(subset=columns_to_average + additional_columns)\n",
        "\n",
        "# Exclude values greater than 2 for each column\n",
        "for column in columns_to_average:\n",
        "    data_filtered = data_filtered[data_filtered[column] <= 2]\n",
        "\n",
        "# Calculate the average for each column grouped by 'Country'\n",
        "averages = data_filtered.groupby('Country')[columns_to_average + additional_columns].mean().reset_index()\n",
        "\n",
        "# Round and convert only numerical columns to integers\n",
        "numerical_cols = columns_to_average + additional_columns\n",
        "averages[numerical_cols] = averages[numerical_cols].round(0).astype(int) # Apply round and astype to numerical columns only\n",
        "\n",
        "# Create the Financial Inclusion Index column we are minusing fin5 etc beacause 1=yes 2=no and in anydigpayment 1=yes 0=no\n",
        "averages['Financial Inclusion Index'] = (\n",
        "    averages['anydigpayment'] -\n",
        "    (averages['fin5'] +\n",
        "     averages['fin6'] +\n",
        "     averages['fin14a'] +\n",
        "     averages['fin14a1'] +\n",
        "     averages['fin14b'])\n",
        ")\n",
        "\n",
        "# Keep only the required columns\n",
        "final_data = averages[['Country', '.GDP PPP', 'Internet Penetration %', 'Financial Inclusion Index']]\n",
        "\n",
        "# Save the final dataset to a CSV file\n",
        "output_path = \"financial_inclusion_index_gdp_internet.csv\"\n",
        "final_data.to_csv(output_path, index=False)\n",
        "\n",
        "# Print confirmation\n",
        "print(f\"Dataset with Financial Inclusion Index, GDP, and Internet Penetration saved to: {output_path}\")"
      ],
      "cell_type": "code",
      "metadata": {
        "colab": {
          "base_uri": "https://localhost:8080/"
        },
        "id": "JlU51EF5trd0",
        "outputId": "7b79710d-f691-4b0a-fc04-3b8bd12fe93a"
      },
      "execution_count": 46,
      "outputs": [
        {
          "output_type": "stream",
          "name": "stdout",
          "text": [
            "Dataset with Financial Inclusion Index, GDP, and Internet Penetration saved to: financial_inclusion_index_gdp_internet.csv\n"
          ]
        }
      ]
    }
  ]
}