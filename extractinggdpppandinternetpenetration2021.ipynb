{
  "nbformat": 4,
  "nbformat_minor": 0,
  "metadata": {
    "colab": {
      "provenance": [],
      "authorship_tag": "ABX9TyMGCOT8fuCoe1LElc+HRaRT",
      "include_colab_link": true
    },
    "kernelspec": {
      "name": "python3",
      "display_name": "Python 3"
    },
    "language_info": {
      "name": "python"
    }
  },
  "cells": [
    {
      "cell_type": "markdown",
      "metadata": {
        "id": "view-in-github",
        "colab_type": "text"
      },
      "source": [
        "<a href=\"https://colab.research.google.com/github/radosty/radosty.github.io/blob/main/extractinggdpppandinternetpenetration2021.ipynb\" target=\"_parent\"><img src=\"https://colab.research.google.com/assets/colab-badge.svg\" alt=\"Open In Colab\"/></a>"
      ]
    },
    {
      "cell_type": "code",
      "execution_count": 2,
      "metadata": {
        "colab": {
          "base_uri": "https://localhost:8080/"
        },
        "id": "ozsmgt4afRwz",
        "outputId": "c08879fc-ec81-433d-aef5-dc11d66d49f1"
      },
      "outputs": [
        {
          "output_type": "stream",
          "name": "stdout",
          "text": [
            "Data saved to europe_financial_inclusion_2021.csv\n",
            "Indicator     Country Country Code  Year  IT.NET.USER.ZS  NY.GDP.PCAP.PP.CD\n",
            "0             Albania           AL  2021         79.3237       16261.804554\n",
            "1             Andorra           AD  2021         93.8975       58829.850072\n",
            "2             Armenia           AM  2021         78.6123       16899.070918\n",
            "3             Austria           AT  2021         92.5292       63421.203587\n",
            "4          Azerbaijan           AZ  2021         86.0000       20111.375695\n"
          ]
        }
      ],
      "source": [
        "import requests\n",
        "import pandas as pd\n",
        "\n",
        "# List of European countries' ISO Alpha-3 codes\n",
        "european_countries = [\n",
        "    \"ALB\", \"AND\", \"ARM\", \"AUT\", \"AZE\", \"BEL\", \"BIH\", \"BLR\", \"BGR\", \"CHE\", \"CYP\", \"CZE\",\n",
        "    \"DEU\", \"DNK\", \"ESP\", \"EST\", \"FIN\", \"FRA\", \"GBR\", \"GEO\", \"GRC\", \"HRV\", \"HUN\", \"IRL\",\n",
        "    \"ISL\", \"ITA\", \"KAZ\", \"KGZ\", \"LIE\", \"LTU\", \"LUX\", \"LVA\", \"MCO\", \"MDA\", \"MKD\", \"MLT\",\n",
        "    \"MNE\", \"NLD\", \"NOR\", \"POL\", \"PRT\", \"ROU\", \"RUS\", \"SMR\", \"SRB\", \"SVK\", \"SVN\", \"SWE\",\n",
        "    \"TJK\", \"TKM\", \"UKR\", \"UZB\"\n",
        "]\n",
        "\n",
        "# Year of interest\n",
        "year = 2021\n",
        "\n",
        "# Function to fetch data for a specific indicator\n",
        "def fetch_data(indicator):\n",
        "    url = f\"https://api.worldbank.org/v2/country/{';'.join(european_countries)}/indicator/{indicator}?date={year}&format=json&per_page=1000\"\n",
        "    response = requests.get(url)\n",
        "    if response.status_code == 200:\n",
        "        data = response.json()\n",
        "        if data and len(data) > 1 and data[1]:\n",
        "            records = [\n",
        "                {\n",
        "                    \"Country\": record[\"country\"][\"value\"],\n",
        "                    \"Country Code\": record[\"country\"][\"id\"],\n",
        "                    \"Year\": record[\"date\"],\n",
        "                    \"Indicator\": indicator,\n",
        "                    \"Value\": record[\"value\"],\n",
        "                }\n",
        "                for record in data[1]\n",
        "                if record and \"value\" in record and record[\"value\"] is not None\n",
        "            ]\n",
        "            return pd.DataFrame(records)\n",
        "        else:\n",
        "            print(f\"No data available for indicator {indicator} in {year}.\")\n",
        "            return pd.DataFrame()\n",
        "    else:\n",
        "        print(f\"Failed to fetch data for indicator {indicator}. HTTP Status Code: {response.status_code}\")\n",
        "        return pd.DataFrame()\n",
        "\n",
        "# List of financial inclusion indicators from the Global Findex Database\n",
        "indicators = [\n",
        "    \"IT.NET.USER.ZS\",\n",
        "    \"NY.GDP.PCAP.PP.CD\"\n",
        "]\n",
        "\n",
        "# Fetch data for all indicators and combine into a single DataFrame\n",
        "all_data = pd.DataFrame()\n",
        "for indicator in indicators:\n",
        "    df = fetch_data(indicator)\n",
        "    if not df.empty:\n",
        "        all_data = pd.concat([all_data, df], ignore_index=True)\n",
        "\n",
        "# Pivot the DataFrame to have indicators as columns\n",
        "if not all_data.empty:\n",
        "    final_df = all_data.pivot_table(index=[\"Country\", \"Country Code\", \"Year\"], columns=\"Indicator\", values=\"Value\").reset_index()\n",
        "    # Save to CSV\n",
        "    filename = \"europe_financial_inclusion_2021.csv\"\n",
        "    final_df.to_csv(filename, index=False)\n",
        "    print(f\"Data saved to {filename}\")\n",
        "    print(final_df.head())\n",
        "else:\n",
        "    print(\"No financial inclusion data available for the specified indicators in 2021.\")\n"
      ]
    }
  ]
}