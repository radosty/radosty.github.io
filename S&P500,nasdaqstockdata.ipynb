{
  "nbformat": 4,
  "nbformat_minor": 0,
  "metadata": {
    "colab": {
      "provenance": [],
      "authorship_tag": "ABX9TyP2DYaRI2RwPDHRxUSOMxDZ",
      "include_colab_link": true
    },
    "kernelspec": {
      "name": "python3",
      "display_name": "Python 3"
    },
    "language_info": {
      "name": "python"
    }
  },
  "cells": [
    {
      "cell_type": "markdown",
      "metadata": {
        "id": "view-in-github",
        "colab_type": "text"
      },
      "source": [
        "<a href=\"https://colab.research.google.com/github/radosty/radosty.github.io/blob/main/S%26P500%2Cnasdaqstockdata.ipynb\" target=\"_parent\"><img src=\"https://colab.research.google.com/assets/colab-badge.svg\" alt=\"Open In Colab\"/></a>"
      ]
    },
    {
      "cell_type": "code",
      "source": [
        "import yfinance as yf\n",
        "import pandas as pd\n",
        "\n",
        "tickers = ['^GSPC', '^IXIC']  # S&P 500 and NASDAQ\n",
        "\n",
        "start_date = '2021-01-01'\n",
        "end_date = '2021-12-31'\n",
        "\n",
        "all_index_data = pd.DataFrame()\n",
        "\n",
        "for ticker in tickers:\n",
        "    try:\n",
        "\n",
        "        index = yf.Ticker(ticker)\n",
        "\n",
        "\n",
        "        hist = index.history(start=start_date, end=end_date, interval=\"1mo\")\n",
        "\n",
        "        if hist.empty:\n",
        "            print(f\"No data for {ticker}, skipping.\")\n",
        "            continue\n",
        "\n",
        "\n",
        "        hist.reset_index(inplace=True)\n",
        "\n",
        "\n",
        "        hist['Ticker'] = 'S&P 500' if ticker == '^GSPC' else 'NASDAQ'\n",
        "\n",
        "\n",
        "        hist['Monthly Return (%)'] = hist['Close'].pct_change() * 100\n",
        "\n",
        "\n",
        "        hist = hist[['Date', 'Ticker', 'Close', 'Monthly Return (%)']]\n",
        "\n",
        "\n",
        "        all_index_data = pd.concat([all_index_data, hist], ignore_index=True)\n",
        "\n",
        "    except Exception as e:\n",
        "        print(f\"Error processing {ticker}: {e}\")\n",
        "\n",
        "\n",
        "all_index_data.dropna(inplace=True)\n",
        "\n",
        "print(all_index_data.head())\n",
        "\n",
        "\n",
        "all_index_data.to_csv(\"raw_index_data_2021.csv\", index=False)\n",
        "print(\"\\nRaw index data saved.\")\n",
        "\n",
        "\n",
        "average_monthly_performance = all_index_data.groupby(['Date', 'Ticker']).agg({\n",
        "    'Close': 'mean',\n",
        "    'Monthly Return (%)': 'mean'\n",
        "}).reset_index()\n",
        "\n",
        "\n",
        "average_monthly_performance.dropna(inplace=True)\n",
        "\n",
        "average_monthly_performance.to_csv(\"average_index_performance_2021.csv\", index=False)\n"
      ],
      "metadata": {
        "colab": {
          "base_uri": "https://localhost:8080/"
        },
        "id": "ha6sNEAx265Y",
        "outputId": "2307a889-dff1-4828-a544-9bb2abfcab8c"
      },
      "execution_count": null,
      "outputs": [
        {
          "output_type": "stream",
          "name": "stdout",
          "text": [
            "                       Date   Ticker        Close  Monthly Return (%)\n",
            "1 2021-02-01 00:00:00-05:00  S&P 500  3811.149902            2.609145\n",
            "2 2021-03-01 00:00:00-05:00  S&P 500  3972.889893            4.243863\n",
            "3 2021-04-01 00:00:00-04:00  S&P 500  4181.169922            5.242532\n",
            "4 2021-05-01 00:00:00-04:00  S&P 500  4204.109863            0.548649\n",
            "5 2021-06-01 00:00:00-04:00  S&P 500  4297.500000            2.221401\n",
            "\n",
            "Raw index data saved.\n",
            "Average index performance data saved.\n"
          ]
        }
      ]
    }
  ]
}