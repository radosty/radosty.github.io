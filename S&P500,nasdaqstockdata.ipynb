{
  "nbformat": 4,
  "nbformat_minor": 0,
  "metadata": {
    "colab": {
      "provenance": [],
      "authorship_tag": "ABX9TyN7YWzdVsiS0Y76BNyloPyg",
      "include_colab_link": true
    },
    "kernelspec": {
      "name": "python3",
      "display_name": "Python 3"
    },
    "language_info": {
      "name": "python"
    }
  },
  "cells": [
    {
      "cell_type": "markdown",
      "metadata": {
        "id": "view-in-github",
        "colab_type": "text"
      },
      "source": [
        "<a href=\"https://colab.research.google.com/github/radosty/radosty.github.io/blob/main/S%26P500%2Cnasdaqstockdata.ipynb\" target=\"_parent\"><img src=\"https://colab.research.google.com/assets/colab-badge.svg\" alt=\"Open In Colab\"/></a>"
      ]
    },
    {
      "cell_type": "code",
      "source": [
        "import yfinance as yf\n",
        "import pandas as pd\n",
        "\n",
        "# List of indices\n",
        "tickers = ['^GSPC', '^IXIC']  # S&P 500 and NASDAQ\n",
        "\n",
        "# Define the date range for 2021\n",
        "start_date = '2021-01-01'\n",
        "end_date = '2021-12-31'\n",
        "\n",
        "# Create an empty DataFrame to store all index data\n",
        "all_index_data = pd.DataFrame()\n",
        "\n",
        "for ticker in tickers:\n",
        "    try:\n",
        "        # Create a Ticker object\n",
        "        index = yf.Ticker(ticker)\n",
        "\n",
        "        # Fetch historical data\n",
        "        hist = index.history(start=start_date, end=end_date, interval=\"1mo\")\n",
        "\n",
        "        if hist.empty:\n",
        "            print(f\"No data for {ticker}, skipping.\")\n",
        "            continue\n",
        "\n",
        "        # Reset index to make Date a column\n",
        "        hist.reset_index(inplace=True)\n",
        "\n",
        "        # Replace ticker symbol with descriptive names\n",
        "        hist['Ticker'] = 'S&P 500' if ticker == '^GSPC' else 'NASDAQ'\n",
        "\n",
        "        # Calculate monthly return\n",
        "        hist['Monthly Return (%)'] = hist['Close'].pct_change() * 100\n",
        "\n",
        "        # Select relevant columns\n",
        "        hist = hist[['Date', 'Ticker', 'Close', 'Monthly Return (%)']]\n",
        "\n",
        "        # Append to the main DataFrame\n",
        "        all_index_data = pd.concat([all_index_data, hist], ignore_index=True)\n",
        "\n",
        "    except Exception as e:\n",
        "        print(f\"Error processing {ticker}: {e}\")\n",
        "\n",
        "# Drop any missing values from the DataFrame\n",
        "all_index_data.dropna(inplace=True)\n",
        "\n",
        "# Display the first few rows of the combined data after dropping missing values\n",
        "print(all_index_data.head())\n",
        "\n",
        "# Save the raw data to CSV without missing values\n",
        "all_index_data.to_csv(\"raw_index_data_2021.csv\", index=False)\n",
        "print(\"\\nRaw index data saved.\")\n",
        "\n",
        "# Calculate average monthly performance across indices\n",
        "average_monthly_performance = all_index_data.groupby(['Date', 'Ticker']).agg({\n",
        "    'Close': 'mean',\n",
        "    'Monthly Return (%)': 'mean'\n",
        "}).reset_index()\n",
        "\n",
        "# Drop any missing values from the average performance DataFrame\n",
        "average_monthly_performance.dropna(inplace=True)\n",
        "\n",
        "# Save the averaged performance data without missing values\n",
        "average_monthly_performance.to_csv(\"average_index_performance_2021.csv\", index=False)\n",
        "print(\"Average index performance data saved.\")\n"
      ],
      "metadata": {
        "colab": {
          "base_uri": "https://localhost:8080/"
        },
        "id": "ha6sNEAx265Y",
        "outputId": "2307a889-dff1-4828-a544-9bb2abfcab8c"
      },
      "execution_count": 6,
      "outputs": [
        {
          "output_type": "stream",
          "name": "stdout",
          "text": [
            "                       Date   Ticker        Close  Monthly Return (%)\n",
            "1 2021-02-01 00:00:00-05:00  S&P 500  3811.149902            2.609145\n",
            "2 2021-03-01 00:00:00-05:00  S&P 500  3972.889893            4.243863\n",
            "3 2021-04-01 00:00:00-04:00  S&P 500  4181.169922            5.242532\n",
            "4 2021-05-01 00:00:00-04:00  S&P 500  4204.109863            0.548649\n",
            "5 2021-06-01 00:00:00-04:00  S&P 500  4297.500000            2.221401\n",
            "\n",
            "Raw index data saved.\n",
            "Average index performance data saved.\n"
          ]
        }
      ]
    }
  ]
}