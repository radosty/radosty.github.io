{
  "nbformat": 4,
  "nbformat_minor": 0,
  "metadata": {
    "colab": {
      "provenance": [],
      "authorship_tag": "ABX9TyP41m++cChVej3jLJ6LaWTV",
      "include_colab_link": true
    },
    "kernelspec": {
      "name": "python3",
      "display_name": "Python 3"
    },
    "language_info": {
      "name": "python"
    }
  },
  "cells": [
    {
      "cell_type": "markdown",
      "metadata": {
        "id": "view-in-github",
        "colab_type": "text"
      },
      "source": [
        "<a href=\"https://colab.research.google.com/github/radosty/radosty.github.io/blob/main/fintechinvestmentandgdpdatamerge.ipynb\" target=\"_parent\"><img src=\"https://colab.research.google.com/assets/colab-badge.svg\" alt=\"Open In Colab\"/></a>"
      ]
    },
    {
      "cell_type": "code",
      "execution_count": 8,
      "metadata": {
        "colab": {
          "base_uri": "https://localhost:8080/"
        },
        "id": "y3h3DKhp5lOS",
        "outputId": "b1328484-d91f-485c-ea84-1597729d2245"
      },
      "outputs": [
        {
          "output_type": "stream",
          "name": "stdout",
          "text": [
            "   Country  Year  GDP Per Capita PPP (Current US$)  Fintech Investment\n",
            "0  Albania  2010                       9626.664893                 9.0\n",
            "1  Albania  2011                      10207.169880                 6.0\n",
            "2  Albania  2012                      10525.722530                 4.0\n",
            "3  Albania  2013                      10570.419830                18.9\n",
            "4  Albania  2014                      11258.457280                51.2\n"
          ]
        }
      ],
      "source": [
        "import pandas as pd\n",
        "import seaborn as sns\n",
        "import matplotlib.pyplot as plt\n",
        "\n",
        "# Load the GDP per capita PPP data\n",
        "gdp_url = \"https://raw.githubusercontent.com/radosty/radosty.github.io/refs/heads/main/europegdpppc2010-2023.csv\"\n",
        "df_gdp = pd.read_csv(gdp_url)\n",
        "\n",
        "# Load the fintech investment data\n",
        "fintech_url = \"https://raw.githubusercontent.com/radosty/radosty.github.io/refs/heads/main/fintechinvestment2010-2023\"\n",
        "df_fintech = pd.read_csv(fintech_url)\n",
        "merged_data = pd.merge(df_gdp, df_fintech, on='Year')\n",
        "\n",
        "# Save the merged data to a CSV file\n",
        "merged_data.to_csv('fintech_gdp_data.csv', index=False)\n",
        "\n",
        "# Display the first few rows to verify the data\n",
        "print(merged_data.head())"
      ]
    }
  ]
}