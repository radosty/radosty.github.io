{
  "nbformat": 4,
  "nbformat_minor": 0,
  "metadata": {
    "colab": {
      "provenance": [],
      "authorship_tag": "ABX9TyMgs9jchBgUpSKqkSHLOEw7",
      "include_colab_link": true
    },
    "kernelspec": {
      "name": "python3",
      "display_name": "Python 3"
    },
    "language_info": {
      "name": "python"
    }
  },
  "cells": [
    {
      "cell_type": "markdown",
      "metadata": {
        "id": "view-in-github",
        "colab_type": "text"
      },
      "source": [
        "<a href=\"https://colab.research.google.com/github/radosty/radosty.github.io/blob/main/stockdatamarger.ipynb\" target=\"_parent\"><img src=\"https://colab.research.google.com/assets/colab-badge.svg\" alt=\"Open In Colab\"/></a>"
      ]
    },
    {
      "cell_type": "code",
      "execution_count": 6,
      "metadata": {
        "colab": {
          "base_uri": "https://localhost:8080/"
        },
        "id": "Z9g635Dg9Dsj",
        "outputId": "f7e6492a-5701-4d24-a9c4-ec5cd5e0ed69"
      },
      "outputs": [
        {
          "output_type": "stream",
          "name": "stdout",
          "text": [
            "Monthly data has been saved to monthly_stock_data.csv\n",
            "    Ticker       Date         Close  Monthly Return (%)\n",
            "0  Fintech 2020-12-01   1719.500000            1.806003\n",
            "1  Fintech 2021-01-01   1916.000000           11.427741\n",
            "2   NASDAQ 2021-01-01   6468.393088            0.870000\n",
            "3  S&P 500 2021-01-01   3793.750000            1.806003\n",
            "4  Fintech 2021-02-01   1903.500000           -0.652401\n",
            "5   NASDAQ 2021-02-01  13192.349610            0.930779\n",
            "6  S&P 500 2021-02-01   3811.149902            2.609145\n",
            "7  Fintech 2021-03-01   2041.500000            7.249803\n",
            "8   NASDAQ 2021-03-01  13246.870120            0.413274\n",
            "9  S&P 500 2021-03-01   3972.889893            4.243863\n"
          ]
        },
        {
          "output_type": "stream",
          "name": "stderr",
          "text": [
            "<ipython-input-6-727c46864e17>:54: FutureWarning: A value is trying to be set on a copy of a DataFrame or Series through chained assignment using an inplace method.\n",
            "The behavior will change in pandas 3.0. This inplace method will never work because the intermediate object on which we are setting values always behaves as a copy.\n",
            "\n",
            "For example, when doing 'df[col].method(value, inplace=True)', try using 'df.method({col: value}, inplace=True)' or df[col] = df[col].method(value) instead, to perform the operation inplace on the original object.\n",
            "\n",
            "\n",
            "  grouped_data['Monthly Return (%)'].fillna(mean_monthly_return, inplace=True)\n",
            "<ipython-input-6-727c46864e17>:56: FutureWarning: A value is trying to be set on a copy of a DataFrame or Series through chained assignment using an inplace method.\n",
            "The behavior will change in pandas 3.0. This inplace method will never work because the intermediate object on which we are setting values always behaves as a copy.\n",
            "\n",
            "For example, when doing 'df[col].method(value, inplace=True)', try using 'df.method({col: value}, inplace=True)' or df[col] = df[col].method(value) instead, to perform the operation inplace on the original object.\n",
            "\n",
            "\n",
            "  grouped_data['Close'].fillna(mean_closing, inplace= True)\n"
          ]
        }
      ],
      "source": [
        "import pandas as pd\n",
        "\n",
        "# Load the S&P 500 and NASDAQ dataset from the provided URL\n",
        "url_sp500_nasdaq = 'https://raw.githubusercontent.com/radosty/radosty.github.io/refs/heads/main/s%26p500andnasdaqstock.csv'\n",
        "sp500_nasdaq_data = pd.read_csv(url_sp500_nasdaq)\n",
        "\n",
        "# Load the Fintech dataset from the provided URL\n",
        "url_fintech = 'https://raw.githubusercontent.com/radosty/radosty.github.io/refs/heads/main/fintechstock2.csv'\n",
        "fintech_data = pd.read_csv(url_fintech)\n",
        "\n",
        "# Convert 'Date' columns to datetime format and remove timezone information\n",
        "sp500_nasdaq_data['Date'] = pd.to_datetime(sp500_nasdaq_data['Date'], utc=True).dt.tz_convert(None)\n",
        "fintech_data['Date'] = pd.to_datetime(fintech_data['Date'], utc=True).dt.tz_convert(None)\n",
        "\n",
        "# Rename columns in fintech_data to match sp500_nasdaq_data\n",
        "fintech_data.rename(columns={\n",
        "    'Average Closing Price': 'Close',\n",
        "    'Average Monthly Return (%)': 'Monthly Return (%)'\n",
        "}, inplace=True)\n",
        "\n",
        "# Add 'Ticker' column to fintech_data\n",
        "fintech_data['Ticker'] = 'Fintech'\n",
        "\n",
        "# Combine the datasets\n",
        "merged_data = pd.concat([sp500_nasdaq_data, fintech_data], ignore_index=True)\n",
        "\n",
        "# Add new rows for January 1, 2021\n",
        "new_data = pd.DataFrame({\n",
        "    'Date': [pd.to_datetime('2021-01-01'), pd.to_datetime('2021-01-01')],\n",
        "    'Ticker': ['S&P 500', 'NASDAQ'],\n",
        "    'Close': [3793.75, None],\n",
        "    'Monthly Return (%)': [None, 0.87]\n",
        "})\n",
        "\n",
        "# Concatenate the new data with the existing dataset\n",
        "merged_data = pd.concat([merged_data, new_data], ignore_index=True)\n",
        "\n",
        "# Group by year, month, and ticker, then take the last available value\n",
        "merged_data['Year'] = merged_data['Date'].dt.year\n",
        "merged_data['Month'] = merged_data['Date'].dt.month\n",
        "grouped_data = merged_data.groupby(['Year', 'Month', 'Ticker']).last().reset_index()\n",
        "\n",
        "# Recreate the Date column\n",
        "grouped_data['Date'] = pd.to_datetime(grouped_data['Year'].astype(str) + '-' + grouped_data['Month'].astype(str) + '-01')\n",
        "\n",
        "# Drop the Year and Month columns\n",
        "grouped_data = grouped_data.drop(['Year', 'Month'], axis=1)\n",
        "\n",
        "# Sort the dataset by Date and Ticker\n",
        "grouped_data = grouped_data.sort_values(['Date', 'Ticker'])\n",
        "\n",
        "# Impute missing values in 'Monthly Return (%)' with the mean\n",
        "mean_monthly_return = grouped_data['Monthly Return (%)'].mean()\n",
        "grouped_data['Monthly Return (%)'].fillna(mean_monthly_return, inplace=True)\n",
        "mean_closing = grouped_data['Close'].mean()\n",
        "grouped_data['Close'].fillna(mean_closing, inplace= True)\n",
        "# Save the updated dataset\n",
        "grouped_data.to_csv('monthly_stock_data3.csv', index=False)\n",
        "\n",
        "print(\"Monthly data has been saved to monthly_stock_data.csv\")\n",
        "\n",
        "# Display the first few rows of the final dataset\n",
        "print(grouped_data.head(10))\n",
        "\n"
      ]
    }
  ]
}