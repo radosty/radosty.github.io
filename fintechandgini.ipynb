{
  "nbformat": 4,
  "nbformat_minor": 0,
  "metadata": {
    "colab": {
      "provenance": [],
      "authorship_tag": "ABX9TyOGhuLU8gs63qBEJrfE3f3F",
      "include_colab_link": true
    },
    "kernelspec": {
      "name": "python3",
      "display_name": "Python 3"
    },
    "language_info": {
      "name": "python"
    }
  },
  "cells": [
    {
      "cell_type": "markdown",
      "metadata": {
        "id": "view-in-github",
        "colab_type": "text"
      },
      "source": [
        "<a href=\"https://colab.research.google.com/github/radosty/radosty.github.io/blob/main/fintechandgini.ipynb\" target=\"_parent\"><img src=\"https://colab.research.google.com/assets/colab-badge.svg\" alt=\"Open In Colab\"/></a>"
      ]
    },
    {
      "cell_type": "code",
      "execution_count": 19,
      "metadata": {
        "id": "ICEsqBeOMjAi"
      },
      "outputs": [],
      "source": [
        "import requests\n",
        "import pandas as pd\n",
        "import numpy as np\n",
        "from sklearn.preprocessing import PolynomialFeatures\n",
        "from sklearn.linear_model import LinearRegression\n",
        "\n",
        "# Define European ISO3 country codes\n",
        "europe_iso3 = [\n",
        "    \"ALB\", \"AND\", \"AUT\", \"BLR\", \"BEL\", \"BIH\", \"BGR\", \"HRV\", \"CYP\", \"CZE\",\n",
        "    \"DNK\", \"EST\", \"FIN\", \"FRA\", \"DEU\", \"GRC\", \"HUN\", \"ISL\", \"IRL\", \"ITA\",\n",
        "    \"KOS\", \"LVA\", \"LIE\", \"LTU\", \"LUX\", \"MLT\", \"MDA\", \"MCO\", \"MNE\", \"NLD\",\n",
        "    \"MKD\", \"NOR\", \"POL\", \"PRT\", \"ROU\", \"SMR\", \"SRB\", \"SVK\", \"SVN\", \"ESP\",\n",
        "    \"SWE\", \"CHE\", \"UKR\", \"GBR\"\n",
        "]\n",
        "\n",
        "# Define API base URL for Gini coefficient\n",
        "base_url = \"http://api.worldbank.org/v2/country/{}/indicator/SI.POV.GINI?date=2000:2023&format=json\"\n",
        "\n",
        "# Fetch data\n",
        "all_data = []\n",
        "for iso3 in europe_iso3:\n",
        "    url = base_url.format(iso3)\n",
        "    response = requests.get(url)\n",
        "    if response.status_code == 200:\n",
        "        data = response.json()\n",
        "        if data and len(data) > 1:\n",
        "            country_data = data[1]\n",
        "            for entry in country_data:\n",
        "                if \"value\" in entry:\n",
        "                    all_data.append({\n",
        "                        \"Country\": entry.get(\"country\", {}).get(\"value\", iso3),\n",
        "                        \"ISO3\": iso3,\n",
        "                        \"Year\": entry.get(\"date\"),\n",
        "                        \"GiniCoefficient\": entry.get(\"value\")\n",
        "                    })\n",
        "\n",
        "# Create DataFrame\n",
        "df = pd.DataFrame(all_data)\n",
        "\n",
        "# Clean data\n",
        "df.dropna(subset=[\"GiniCoefficient\"], inplace=True)\n",
        "df[\"Year\"] = pd.to_numeric(df[\"Year\"])\n",
        "df[\"GiniCoefficient\"] = pd.to_numeric(df[\"GiniCoefficient\"])\n",
        "\n",
        "# Calculate average Gini coefficient per year\n",
        "average_gini = df.groupby(\"Year\")[\"GiniCoefficient\"].mean().reset_index()\n",
        "average_gini.rename(columns={\"GiniCoefficient\": \"AverageGini\"}, inplace=True)\n",
        "\n",
        "# Prepare data for projections\n",
        "X = average_gini[\"Year\"].values.reshape(-1, 1)  # Independent variable (Years)\n",
        "y = average_gini[\"AverageGini\"].values  # Dependent variable (Gini Coefficient)\n",
        "\n",
        "# Fit Polynomial Regression model\n",
        "poly = PolynomialFeatures(degree=2)  # Use quadratic fit\n",
        "X_poly = poly.fit_transform(X)\n",
        "model = LinearRegression()\n",
        "model.fit(X_poly, y)\n",
        "\n",
        "# Predict future years\n",
        "future_years = np.array([2022, 2023, 2024, 2025, 2026, 2027, 2028]).reshape(-1, 1)\n",
        "future_years_poly = poly.transform(future_years)\n",
        "future_projections = model.predict(future_years_poly)\n",
        "\n",
        "# Apply constraints to ensure realistic Gini values (0 ≤ Gini ≤ 100)\n",
        "future_projections = np.clip(future_projections, 0, 100)\n",
        "\n",
        "# Combine historical and projected data\n",
        "future_data = pd.DataFrame({\n",
        "    \"Year\": future_years.flatten(),\n",
        "    \"Average Gini\": future_projections\n",
        "})\n",
        "gini_data_data = pd.concat([average_gini, future_data], ignore_index=True)\n",
        "gini_data_data.to_csv(\"average_gini_projections.csv\", index=False)\n",
        "\n",
        "#merging\n",
        "fintech_users = pd.read_csv(\"https://raw.githubusercontent.com/radosty/radosty.github.io/refs/heads/main/numberoffintechusersinEurope.csv\")\n",
        "gini_data1 = pd.read_csv('/content/average_gini_projections.csv')\n",
        "merged_data = pd.merge(fintech_users, gini_data1, on='Year', how='outer')\n",
        "# Drop rows with any missing values in critical columns\n",
        "critical_columns = [fintech_users.columns[1], 'Average Gini']\n",
        "merged_data_clean = merged_data.dropna(subset=critical_columns, how='any')\n",
        "merged_data_clean.to_csv('fintechandgini.csv', index=False)\n"
      ]
    },
    {
      "cell_type": "markdown",
      "source": [],
      "metadata": {
        "id": "Ivd8ABezP4qA"
      }
    }
  ]
}