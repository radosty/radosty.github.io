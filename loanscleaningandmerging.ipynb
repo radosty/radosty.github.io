{
  "nbformat": 4,
  "nbformat_minor": 0,
  "metadata": {
    "colab": {
      "provenance": [],
      "authorship_tag": "ABX9TyMY081J7eQtnbz4Fk3OXJIE",
      "include_colab_link": true
    },
    "kernelspec": {
      "name": "python3",
      "display_name": "Python 3"
    },
    "language_info": {
      "name": "python"
    }
  },
  "cells": [
    {
      "cell_type": "markdown",
      "metadata": {
        "id": "view-in-github",
        "colab_type": "text"
      },
      "source": [
        "<a href=\"https://colab.research.google.com/github/radosty/radosty.github.io/blob/main/loanscleaningandmerging.ipynb\" target=\"_parent\"><img src=\"https://colab.research.google.com/assets/colab-badge.svg\" alt=\"Open In Colab\"/></a>"
      ]
    },
    {
      "source": [
        "#merging\n",
        "import pandas as pd\n",
        "url1 = pd.read_csv(\"https://raw.githubusercontent.com/radosty/radosty.github.io/refs/heads/main/traditionalloans.csv\")\n",
        "url2 = pd.read_csv(\"https://raw.githubusercontent.com/radosty/radosty.github.io/refs/heads/main/alternativeborrowing.csv\")\n",
        "merged_data = pd.merge(url1, url2, on=['Year'], how='outer')\n",
        "merged_data_clean = merged_data\n",
        "merged_data.to_csv('loansEurope.csv', index=False)\n",
        "\n",
        "#cleaning\n",
        "\n",
        "merged_data_clean['Total Lending'] = (\n",
        "    merged_data_clean['Traditional loans'] +\n",
        "    merged_data_clean['Peer to Peer '] +\n",
        "    merged_data_clean['Crowdlending'] )\n",
        "\n",
        "merged_data_clean['Peer to Peer % of Total Lending'] = (\n",
        "    merged_data_clean['Peer to Peer '] / merged_data_clean['Total Lending'] * 100)\n",
        "merged_data_clean['Crowdlending % of Total Lending'] = (\n",
        "    merged_data_clean['Crowdlending'] / merged_data_clean['Total Lending'] * 100)\n",
        "\n",
        "# round up to 2 decimals\n",
        "merged_data_clean['Peer to Peer % of Total Lending'] = merged_data_clean['Peer to Peer % of Total Lending'].round(2)\n",
        "merged_data_clean['Crowdlending % of Total Lending'] = merged_data_clean['Crowdlending % of Total Lending'].round(2)\n",
        "cleaned_data = merged_data_clean[['Year', 'Peer to Peer % of Total Lending', 'Crowdlending % of Total Lending']]\n",
        "cleaned_data.to_csv('cleaned_loansEurope.csv', index=False)"
      ],
      "cell_type": "code",
      "metadata": {
        "id": "xe-vlgn1DqCp"
      },
      "execution_count": 12,
      "outputs": []
    }
  ]
}