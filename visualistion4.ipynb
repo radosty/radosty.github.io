{
  "nbformat": 4,
  "nbformat_minor": 0,
  "metadata": {
    "colab": {
      "provenance": [],
      "authorship_tag": "ABX9TyNEgzLn2+Q7xTubvPaYVK2H",
      "include_colab_link": true
    },
    "kernelspec": {
      "name": "python3",
      "display_name": "Python 3"
    },
    "language_info": {
      "name": "python"
    }
  },
  "cells": [
    {
      "cell_type": "markdown",
      "metadata": {
        "id": "view-in-github",
        "colab_type": "text"
      },
      "source": [
        "<a href=\"https://colab.research.google.com/github/radosty/radosty.github.io/blob/main/visualistion4.ipynb\" target=\"_parent\"><img src=\"https://colab.research.google.com/assets/colab-badge.svg\" alt=\"Open In Colab\"/></a>"
      ]
    },
    {
      "cell_type": "code",
      "execution_count": null,
      "metadata": {
        "colab": {
          "base_uri": "https://localhost:8080/",
          "height": 119
        },
        "id": "RjEhHQpEUDgT",
        "outputId": "26dbf441-552d-4050-8759-7db8b56040b5"
      },
      "outputs": [
        {
          "output_type": "stream",
          "name": "stdout",
          "text": [
            "      Country Country Code  Year  Internet Penetration (% of population)\n",
            "0     Albania           AL  2021                                 79.3237\n",
            "1     Andorra           AD  2021                                 93.8975\n",
            "2     Armenia           AM  2021                                 78.6123\n",
            "3     Austria           AT  2021                                 92.5292\n",
            "4  Azerbaijan           AZ  2021                                 86.0000\n"
          ]
        },
        {
          "output_type": "display_data",
          "data": {
            "text/plain": [
              "<IPython.core.display.Javascript object>"
            ],
            "application/javascript": [
              "\n",
              "    async function download(id, filename, size) {\n",
              "      if (!google.colab.kernel.accessAllowed) {\n",
              "        return;\n",
              "      }\n",
              "      const div = document.createElement('div');\n",
              "      const label = document.createElement('label');\n",
              "      label.textContent = `Downloading \"${filename}\": `;\n",
              "      div.appendChild(label);\n",
              "      const progress = document.createElement('progress');\n",
              "      progress.max = size;\n",
              "      div.appendChild(progress);\n",
              "      document.body.appendChild(div);\n",
              "\n",
              "      const buffers = [];\n",
              "      let downloaded = 0;\n",
              "\n",
              "      const channel = await google.colab.kernel.comms.open(id);\n",
              "      // Send a message to notify the kernel that we're ready.\n",
              "      channel.send({})\n",
              "\n",
              "      for await (const message of channel.messages) {\n",
              "        // Send a message to notify the kernel that we're ready.\n",
              "        channel.send({})\n",
              "        if (message.buffers) {\n",
              "          for (const buffer of message.buffers) {\n",
              "            buffers.push(buffer);\n",
              "            downloaded += buffer.byteLength;\n",
              "            progress.value = downloaded;\n",
              "          }\n",
              "        }\n",
              "      }\n",
              "      const blob = new Blob(buffers, {type: 'application/binary'});\n",
              "      const a = document.createElement('a');\n",
              "      a.href = window.URL.createObjectURL(blob);\n",
              "      a.download = filename;\n",
              "      div.appendChild(a);\n",
              "      a.click();\n",
              "      div.remove();\n",
              "    }\n",
              "  "
            ]
          },
          "metadata": {}
        },
        {
          "output_type": "display_data",
          "data": {
            "text/plain": [
              "<IPython.core.display.Javascript object>"
            ],
            "application/javascript": [
              "download(\"download_59fb8ec7-9de3-4a52-a6c4-72b378ff2c42\", \"europe_internet_penetration_2021.csv\", 1354)"
            ]
          },
          "metadata": {}
        }
      ],
      "source": [
        "import requests\n",
        "import pandas as pd\n",
        "\n",
        "\n",
        "indicator = \"IT.NET.USER.ZS\"\n",
        "year = 2021\n",
        "\n",
        "\n",
        "european_countries = [\n",
        "    \"ALB\", \"AND\", \"ARM\", \"AUT\", \"AZE\", \"BEL\", \"BIH\", \"BLR\", \"BGR\", \"CHE\", \"CYP\", \"CZE\", \"DEU\", \"DNK\", \"ESP\", \"EST\",\n",
        "    \"FIN\", \"FRA\", \"GBR\", \"GEO\", \"GRC\", \"HRV\", \"HUN\", \"IRL\", \"ISL\", \"ITA\", \"KAZ\", \"KGZ\", \"LIE\", \"LTU\", \"LUX\", \"LVA\",\n",
        "    \"MCO\", \"MDA\", \"MKD\", \"MLT\", \"MNE\", \"NLD\", \"NOR\", \"POL\", \"PRT\", \"ROU\", \"RUS\", \"SMR\", \"SRB\", \"SVK\", \"SVN\", \"SWE\",\n",
        "    \"TJK\", \"TKM\", \"UKR\", \"UZB\"\n",
        "]\n",
        "\n",
        "\n",
        "url = f\"https://api.worldbank.org/v2/country/{';'.join(european_countries)}/indicator/{indicator}?date={year}&format=json&per_page=1000\"\n",
        "\n",
        "\n",
        "response = requests.get(url)\n",
        "if response.status_code == 200:\n",
        "    data = response.json()\n",
        "    if data and len(data) > 1 and data[1]:\n",
        "        records = [\n",
        "            {\n",
        "                \"Country\": record[\"country\"][\"value\"],\n",
        "                \"Country Code\": record[\"country\"][\"id\"],\n",
        "                \"Year\": record[\"date\"],\n",
        "                \"Internet Penetration (% of population)\": record[\"value\"],\n",
        "            }\n",
        "            for record in data[1]\n",
        "            if record and \"value\" in record and record[\"value\"] is not None\n",
        "        ]\n",
        "\n",
        "        df = pd.DataFrame(records)\n",
        "\n",
        "        print(df.head())\n",
        "\n",
        "        filename = \"europe_internet_penetration_2021.csv\"\n",
        "        df.to_csv(filename, index=False)\n",
        "\n"
      ]
    },
    {
      "cell_type": "code",
      "source": [
        "import pandas as pd\n",
        "\n",
        "gdp_internet_path = \"/content/gdpppcinternetpenetration2021.csv\"\n",
        "findex_data_path = \"/content/findexdata.csv\"\n",
        "\n",
        "\n",
        "gdp_internet_data = pd.read_csv(gdp_internet_path)\n",
        "\n",
        "\n",
        "findex_data = pd.read_csv(findex_data_path, encoding='latin1')\n",
        "\n",
        "gdp_internet_relevant = gdp_internet_data[['Country', 'Country Code', 'Year', '.GDP PPP', 'Internet Penetration %']]\n",
        "gdp_internet_relevant.rename(columns={\n",
        "    'Country Code': 'economycode',\n",
        "    'Year': 'year'\n",
        "}, inplace=True)\n",
        "\n",
        "findex_relevant = findex_data[['economycode',  'anydigpayment', 'year', 'fin5', 'fin6', 'fin14a', 'fin14a1', 'fin14b']]\n",
        "\n",
        "iso2_to_iso3 = {\n",
        "    'AL': 'ALB', 'AD': 'AND', 'AM': 'ARM', 'AT': 'AUT', 'AZ': 'AZE',\n",
        "    'BY': 'BLR', 'BE': 'BEL', 'BA': 'BIH', 'BG': 'BGR', 'HR': 'HRV',\n",
        "    'CY': 'CYP', 'CZ': 'CZE', 'DK': 'DNK', 'EE': 'EST', 'FI': 'FIN',\n",
        "    'FR': 'FRA', 'GE': 'GEO', 'DE': 'DEU', 'GR': 'GRC', 'HU': 'HUN',\n",
        "    'IS': 'ISL', 'IE': 'IRL', 'IT': 'ITA', 'KZ': 'KAZ', 'KG': 'KGZ',\n",
        "    'LV': 'LVA', 'LI': 'LIE', 'LT': 'LTU', 'LU': 'LUX', 'MT': 'MLT',\n",
        "    'MD': 'MDA', 'MC': 'MCO', 'ME': 'MNE', 'NL': 'NLD', 'MK': 'MKD',\n",
        "    'NO': 'NOR', 'PL': 'POL', 'PT': 'PRT', 'RO': 'ROU', 'RU': 'RUS',\n",
        "    'SM': 'SMR', 'RS': 'SRB', 'SK': 'SVK', 'SI': 'SVN', 'ES': 'ESP',\n",
        "    'SE': 'SWE', 'CH': 'CHE', 'TJ': 'TJK', 'UA': 'UKR', 'GB': 'GBR',\n",
        "    'UZ': 'UZB'\n",
        "}\n",
        "gdp_internet_relevant['economycode'] = gdp_internet_relevant['economycode'].map(iso2_to_iso3)\n",
        "\n",
        "\n",
        "findex_relevant = findex_relevant[findex_relevant['year'] == 2021]\n",
        "\n",
        "merged_data = pd.merge(gdp_internet_relevant, findex_relevant, on=['economycode', 'year'], how='inner')\n",
        "\n",
        "\n",
        "output_path = \"gdpinternetpenetrationfindex7.csv\"\n",
        "merged_data.to_csv(output_path, index=False)\n",
        "\n"
      ],
      "metadata": {
        "id": "NZFc-HWaPe1O"
      },
      "execution_count": null,
      "outputs": []
    },
    {
      "cell_type": "code",
      "source": [
        "import pandas as pd\n",
        "\n",
        "\n",
        "file_path = \"/content/gdpinternetpenetrationfindex7.csv\"\n",
        "data = pd.read_csv(file_path)\n",
        "\n",
        "\n",
        "columns_to_average = ['anydigpayment', 'fin5', 'fin6', 'fin14a', 'fin14a1', 'fin14b']\n",
        "\n",
        "\n",
        "additional_columns = ['.GDP PPP', 'Internet Penetration %']\n",
        "\n",
        "data_filtered = data.dropna(subset=columns_to_average + additional_columns)\n",
        "\n",
        "# Exclude values greater than 2 for each column\n",
        "for column in columns_to_average:\n",
        "    data_filtered = data_filtered[data_filtered[column] <= 2]\n",
        "\n",
        "# Calculate the average for each column grouped by 'Country'\n",
        "averages = data_filtered.groupby('Country')[columns_to_average + additional_columns].mean().reset_index()\n",
        "\n",
        "\n",
        "numerical_cols = columns_to_average + additional_columns\n",
        "averages[numerical_cols] = averages[numerical_cols].round(0).astype(int)\n",
        "\n",
        "averages['Financial Inclusion Index'] = (\n",
        "    averages['anydigpayment'] -\n",
        "    (averages['fin5'] +\n",
        "     averages['fin6'] +\n",
        "     averages['fin14a'] +\n",
        "     averages['fin14a1'] +\n",
        "     averages['fin14b'])\n",
        ")\n",
        "\n",
        "final_data = averages[['Country', '.GDP PPP', 'Internet Penetration %', 'Financial Inclusion Index']]\n",
        "\n",
        "\n",
        "output_path = \"financial_inclusion_index_gdp_internet.csv\"\n",
        "final_data.to_csv(output_path, index=False)\n"
      ],
      "metadata": {
        "id": "AIXW7Z1_Pk8l"
      },
      "execution_count": null,
      "outputs": []
    }
  ]
}