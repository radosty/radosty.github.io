{
  "nbformat": 4,
  "nbformat_minor": 0,
  "metadata": {
    "colab": {
      "provenance": [],
      "authorship_tag": "ABX9TyMCl/lWI7W9ccS7EA5zbwum",
      "include_colab_link": true
    },
    "kernelspec": {
      "name": "python3",
      "display_name": "Python 3"
    },
    "language_info": {
      "name": "python"
    }
  },
  "cells": [
    {
      "cell_type": "markdown",
      "metadata": {
        "id": "view-in-github",
        "colab_type": "text"
      },
      "source": [
        "<a href=\"https://colab.research.google.com/github/radosty/radosty.github.io/blob/main/merging_fintech_ue_inflation_gdpdata.ipynb\" target=\"_parent\"><img src=\"https://colab.research.google.com/assets/colab-badge.svg\" alt=\"Open In Colab\"/></a>"
      ]
    },
    {
      "cell_type": "code",
      "execution_count": 2,
      "metadata": {
        "colab": {
          "base_uri": "https://localhost:8080/"
        },
        "id": "c0uLcvsIEGk3",
        "outputId": "89266ec3-f914-46b3-e892-dae4af5bff11"
      },
      "outputs": [
        {
          "output_type": "stream",
          "name": "stdout",
          "text": [
            "   Country  Year  Inflation rate  Unemployment rate  \\\n",
            "0  Albania  2010        3.626047             14.086   \n",
            "1  Albania  2011        3.429123             13.481   \n",
            "2  Albania  2012        2.031593             13.376   \n",
            "3  Albania  2013        1.937621             15.866   \n",
            "4  Albania  2014        1.625865             18.055   \n",
            "\n",
            "   GDP Per Capita PPP (Current US$)  Fintech Investment  \n",
            "0                       9626.664893                 9.0  \n",
            "1                      10207.169880                 6.0  \n",
            "2                      10525.722530                 4.0  \n",
            "3                      10570.419830                18.9  \n",
            "4                      11258.457280                51.2  \n"
          ]
        }
      ],
      "source": [
        "import pandas as pd\n",
        "\n",
        "unemployment_inflation = pd.read_csv('https://raw.githubusercontent.com/radosty/radosty.github.io/refs/heads/main/europeanunemploymentandinflation2010-2023.csv')\n",
        "fintech_gdp = pd.read_csv('https://raw.githubusercontent.com/radosty/radosty.github.io/refs/heads/main/fintech_gdp_data.csv')\n",
        "\n",
        "# Merge the datasets on 'Country' and 'Year'\n",
        "merged_data = pd.merge(unemployment_inflation, fintech_gdp, on=['Country', 'Year'], how='outer')\n",
        "\n",
        "# Drop any rows with missing values\n",
        "merged_data_clean = merged_data.dropna()\n",
        "\n",
        "# Display the first few rows of the merged and cleaned dataset\n",
        "print(merged_data_clean.head())\n",
        "\n",
        "# Save the merged and cleaned dataset to a new CSV file\n",
        "merged_data_clean.to_csv('merged_european_data.csv', index=False)\n"
      ]
    }
  ]
}