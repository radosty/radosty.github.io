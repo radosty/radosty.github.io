{
  "nbformat": 4,
  "nbformat_minor": 0,
  "metadata": {
    "colab": {
      "provenance": [],
      "authorship_tag": "ABX9TyN6CypLcIYzvJ8UevzQvw3Y",
      "include_colab_link": true
    },
    "kernelspec": {
      "name": "python3",
      "display_name": "Python 3"
    },
    "language_info": {
      "name": "python"
    }
  },
  "cells": [
    {
      "cell_type": "markdown",
      "metadata": {
        "id": "view-in-github",
        "colab_type": "text"
      },
      "source": [
        "<a href=\"https://colab.research.google.com/github/radosty/radosty.github.io/blob/main/visualisation2.ipynb\" target=\"_parent\"><img src=\"https://colab.research.google.com/assets/colab-badge.svg\" alt=\"Open In Colab\"/></a>"
      ]
    },
    {
      "cell_type": "code",
      "execution_count": null,
      "metadata": {
        "colab": {
          "base_uri": "https://localhost:8080/"
        },
        "id": "yDVyYc4rfr5k",
        "outputId": "0086b751-de71-44fc-c651-85d02d92ff58"
      },
      "outputs": [
        {
          "output_type": "stream",
          "name": "stdout",
          "text": [
            "                        Date Ticker       Close  Monthly Return (%)\n",
            "0  2021-01-01 00:00:00-05:00   PYPL  234.309998                 NaN\n",
            "1  2021-02-01 00:00:00-05:00   PYPL  259.850006           10.900093\n",
            "2  2021-03-01 00:00:00-05:00   PYPL  242.839996           -6.546088\n",
            "3  2021-04-01 00:00:00-04:00   PYPL  262.290009            8.009394\n",
            "4  2021-05-01 00:00:00-04:00   PYPL  260.019989           -0.865462\n",
            "\n",
            "Columns in all_stock_data:\n",
            "Index(['Date', 'Ticker', 'Close', 'Monthly Return (%)'], dtype='object')\n",
            "\n",
            "Raw fintech stock data saved.\n",
            "Average fintech performance data saved.\n"
          ]
        }
      ],
      "source": [
        "import yfinance as yf\n",
        "import pandas as pd\n",
        "from datetime import datetime\n",
        "\n",
        "# List of fintech and companies that offer fintech services\n",
        "tickers = [\n",
        "    'PYPL', 'SQ', 'ADYEN.AS', 'WISE.L', 'AFRM', 'SOFI', 'UPST',\n",
        "    'JPM', 'BAC', 'WFC', 'C', 'GS', 'V', 'MA', 'SHOP', 'MELI', 'SE'\n",
        "]\n",
        "\n",
        "# Define the dates of interest\n",
        "start_date = '2021-01-01'\n",
        "end_date = '2021-12-31'\n",
        "\n",
        "# Create an empty DataFrame to store all data\n",
        "all_stock_data = pd.DataFrame()\n",
        "\n",
        "for ticker in tickers:\n",
        "    try:\n",
        "        # Create a Ticker object\n",
        "        stock = yf.Ticker(ticker)\n",
        "\n",
        "        # Fetch historical data\n",
        "        hist = stock.history(start=start_date, end=end_date, interval=\"1mo\")\n",
        "\n",
        "        if hist.empty:\n",
        "            print(f\"No data for {ticker}, skipping.\")\n",
        "            continue\n",
        "\n",
        "        # Reset index to make Date a column\n",
        "        hist.reset_index(inplace=True)\n",
        "\n",
        "        # Add Ticker column\n",
        "        hist['Ticker'] = ticker\n",
        "\n",
        "        # Calculate monthly return\n",
        "        hist['Monthly Return (%)'] = hist['Close'].pct_change() * 100\n",
        "\n",
        "        # Select relevant columns\n",
        "        hist = hist[['Date', 'Ticker', 'Close', 'Monthly Return (%)']]\n",
        "\n",
        "        # Append to the main DataFrame\n",
        "        all_stock_data = pd.concat([all_stock_data, hist], ignore_index=True)\n",
        "\n",
        "    except Exception as e:\n",
        "        print(f\"Error processing {ticker}: {e}\")\n",
        "\n",
        "# Display the first few rows of the combined data\n",
        "print(all_stock_data.head())\n",
        "\n",
        "# Display column names\n",
        "print(\"\\nColumns in all_stock_data:\")\n",
        "print(all_stock_data.columns)\n",
        "\n",
        "# Save the raw data\n",
        "all_stock_data.to_csv(\"raw_fintech_stock_data_2021.csv\", index=False)\n",
        "print(\"\\nRaw fintech stock data saved.\")\n",
        "\n",
        "# Calculate average monthly performance\n",
        "average_monthly_performance = all_stock_data.groupby(['Date', 'Ticker']).agg({\n",
        "    'Close': 'mean',\n",
        "    'Monthly Return (%)': 'mean'\n",
        "}).reset_index()\n",
        "\n",
        "# Calculate average across all tickers\n",
        "final_performance = average_monthly_performance.groupby('Date').agg({\n",
        "    'Close': 'mean',\n",
        "    'Monthly Return (%)': 'mean'\n",
        "}).reset_index()\n",
        "\n",
        "# Rename columns as it makes more sense\n",
        "final_performance.rename(columns={\n",
        "    'Close': 'Average Closing Price',\n",
        "    'Monthly Return (%)': 'Average Monthly Return (%)'\n",
        "}, inplace=True)\n",
        "\n",
        "# Save the averaged performance data\n",
        "final_performance.to_csv(\"average_fintech_performance_2021.csv\", index=False)\n",
        "print(\"Average fintech performance data saved.\")"
      ]
    },
    {
      "cell_type": "markdown",
      "source": [],
      "metadata": {
        "id": "vSItQly1gfaA"
      }
    },
    {
      "cell_type": "code",
      "source": [
        "import yfinance as yf\n",
        "import pandas as pd\n",
        "\n",
        "tickers = ['^GSPC', '^IXIC']  # S&P 500 and NASDAQ\n",
        "\n",
        "start_date = '2021-01-01'\n",
        "end_date = '2021-12-31'\n",
        "\n",
        "all_index_data = pd.DataFrame()\n",
        "\n",
        "for ticker in tickers:\n",
        "    try:\n",
        "\n",
        "        index = yf.Ticker(ticker)\n",
        "\n",
        "\n",
        "        hist = index.history(start=start_date, end=end_date, interval=\"1mo\")\n",
        "\n",
        "        if hist.empty:\n",
        "            print(f\"No data for {ticker}, skipping.\")\n",
        "            continue\n",
        "\n",
        "\n",
        "        hist.reset_index(inplace=True)\n",
        "\n",
        "\n",
        "        hist['Ticker'] = 'S&P 500' if ticker == '^GSPC' else 'NASDAQ'\n",
        "\n",
        "\n",
        "        hist['Monthly Return (%)'] = hist['Close'].pct_change() * 100\n",
        "\n",
        "\n",
        "        hist = hist[['Date', 'Ticker', 'Close', 'Monthly Return (%)']]\n",
        "\n",
        "\n",
        "        all_index_data = pd.concat([all_index_data, hist], ignore_index=True)\n",
        "\n",
        "    except Exception as e:\n",
        "        print(f\"Error processing {ticker}: {e}\")\n",
        "\n",
        "\n",
        "all_index_data.dropna(inplace=True)\n",
        "\n",
        "print(all_index_data.head())\n",
        "\n",
        "\n",
        "all_index_data.to_csv(\"raw_index_data_2021.csv\", index=False)\n",
        "print(\"\\nRaw index data saved.\")\n",
        "\n",
        "\n",
        "average_monthly_performance = all_index_data.groupby(['Date', 'Ticker']).agg({\n",
        "    'Close': 'mean',\n",
        "    'Monthly Return (%)': 'mean'\n",
        "}).reset_index()\n",
        "\n",
        "\n",
        "average_monthly_performance.dropna(inplace=True)\n",
        "\n",
        "average_monthly_performance.to_csv(\"average_index_performance_2021.csv\", index=False)"
      ],
      "metadata": {
        "id": "Z-poeohMN2Lf",
        "outputId": "b39ef26d-4091-4766-da8e-5b677bcf8862",
        "colab": {
          "base_uri": "https://localhost:8080/"
        }
      },
      "execution_count": 1,
      "outputs": [
        {
          "output_type": "stream",
          "name": "stdout",
          "text": [
            "                       Date   Ticker        Close  Monthly Return (%)\n",
            "1 2021-02-01 00:00:00-05:00  S&P 500  3811.149902            2.609145\n",
            "2 2021-03-01 00:00:00-05:00  S&P 500  3972.889893            4.243863\n",
            "3 2021-04-01 00:00:00-04:00  S&P 500  4181.169922            5.242532\n",
            "4 2021-05-01 00:00:00-04:00  S&P 500  4204.109863            0.548649\n",
            "5 2021-06-01 00:00:00-04:00  S&P 500  4297.500000            2.221401\n",
            "\n",
            "Raw index data saved.\n"
          ]
        }
      ]
    },
    {
      "cell_type": "code",
      "source": [
        "import pandas as pd\n",
        "\n",
        "\n",
        "url_sp500_nasdaq = 'https://raw.githubusercontent.com/radosty/radosty.github.io/refs/heads/main/s%26p500andnasdaqstock.csv'\n",
        "sp500_nasdaq_data = pd.read_csv(url_sp500_nasdaq)\n",
        "url_fintech = 'https://raw.githubusercontent.com/radosty/radosty.github.io/refs/heads/main/fintechstock2.csv'\n",
        "fintech_data = pd.read_csv(url_fintech)\n",
        "sp500_nasdaq_data['Date'] = pd.to_datetime(sp500_nasdaq_data['Date'], utc=True).dt.tz_convert(None)\n",
        "fintech_data['Date'] = pd.to_datetime(fintech_data['Date'], utc=True).dt.tz_convert(None)\n",
        "\n",
        "# Rename columns in fintech_data to match sp500_nasdaq_data\n",
        "fintech_data.rename(columns={\n",
        "    'Average Closing Price': 'Close',\n",
        "    'Average Monthly Return (%)': 'Monthly Return (%)'\n",
        "}, inplace=True)\n",
        "\n",
        "# Add 'Ticker' column to fintech_data\n",
        "fintech_data['Ticker'] = 'Fintech'\n",
        "\n",
        "# Combine the datasets\n",
        "merged_data = pd.concat([sp500_nasdaq_data, fintech_data], ignore_index=True)\n",
        "\n",
        "# Add new rows for January 1, 2021\n",
        "new_data = pd.DataFrame({\n",
        "    'Date': [pd.to_datetime('2021-01-01'), pd.to_datetime('2021-01-01')],\n",
        "    'Ticker': ['S&P 500', 'NASDAQ'],\n",
        "    'Close': [3793.75, None],\n",
        "    'Monthly Return (%)': [None, 0.87]\n",
        "})\n",
        "\n",
        "# Concatenate the new data with the existing dataset\n",
        "merged_data = pd.concat([merged_data, new_data], ignore_index=True)\n",
        "\n",
        "# Group by year, month, and ticker, then take the last available value\n",
        "merged_data['Year'] = merged_data['Date'].dt.year\n",
        "merged_data['Month'] = merged_data['Date'].dt.month\n",
        "grouped_data = merged_data.groupby(['Year', 'Month', 'Ticker']).last().reset_index()\n",
        "\n",
        "# Recreate the Date column\n",
        "grouped_data['Date'] = pd.to_datetime(grouped_data['Year'].astype(str) + '-' + grouped_data['Month'].astype(str) + '-01')\n",
        "\n",
        "# Drop the Year and Month columns\n",
        "grouped_data = grouped_data.drop(['Year', 'Month'], axis=1)\n",
        "\n",
        "# Sort the dataset by Date and Ticker\n",
        "grouped_data = grouped_data.sort_values(['Date', 'Ticker'])\n",
        "\n",
        "# Impute missing values in 'Monthly Return (%)' with the mean\n",
        "mean_monthly_return = grouped_data['Monthly Return (%)'].mean()\n",
        "grouped_data['Monthly Return (%)'].fillna(mean_monthly_return, inplace=True)\n",
        "mean_closing = grouped_data['Close'].mean()\n",
        "grouped_data['Close'].fillna(mean_closing, inplace= True)\n",
        "\n",
        "grouped_data.to_csv('monthly_stock_data3.csv', index=False)\n"
      ],
      "metadata": {
        "id": "WW068cMSN8Xc",
        "outputId": "632f860f-848b-42de-b24a-0df6b7fcced5",
        "colab": {
          "base_uri": "https://localhost:8080/"
        }
      },
      "execution_count": 2,
      "outputs": [
        {
          "output_type": "stream",
          "name": "stderr",
          "text": [
            "<ipython-input-2-316152f6ef28>:50: FutureWarning: A value is trying to be set on a copy of a DataFrame or Series through chained assignment using an inplace method.\n",
            "The behavior will change in pandas 3.0. This inplace method will never work because the intermediate object on which we are setting values always behaves as a copy.\n",
            "\n",
            "For example, when doing 'df[col].method(value, inplace=True)', try using 'df.method({col: value}, inplace=True)' or df[col] = df[col].method(value) instead, to perform the operation inplace on the original object.\n",
            "\n",
            "\n",
            "  grouped_data['Monthly Return (%)'].fillna(mean_monthly_return, inplace=True)\n",
            "<ipython-input-2-316152f6ef28>:52: FutureWarning: A value is trying to be set on a copy of a DataFrame or Series through chained assignment using an inplace method.\n",
            "The behavior will change in pandas 3.0. This inplace method will never work because the intermediate object on which we are setting values always behaves as a copy.\n",
            "\n",
            "For example, when doing 'df[col].method(value, inplace=True)', try using 'df.method({col: value}, inplace=True)' or df[col] = df[col].method(value) instead, to perform the operation inplace on the original object.\n",
            "\n",
            "\n",
            "  grouped_data['Close'].fillna(mean_closing, inplace= True)\n"
          ]
        }
      ]
    }
  ]
}